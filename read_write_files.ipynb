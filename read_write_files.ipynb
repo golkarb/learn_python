{
 "cells": [
  {
   "cell_type": "code",
   "execution_count": 8,
   "metadata": {},
   "outputs": [
    {
     "name": "stdout",
     "output_type": "stream",
     "text": [
      "filename= ./example.txt\n",
      "filemode= r\n",
      "filecontent=\n",
      " this is line 1\n",
      "this is line 2\n",
      "this is line 3\n",
      "<_io.TextIOWrapper name='./example.txt' mode='r' encoding='cp1252'>\n"
     ]
    }
   ],
   "source": [
    "example=\"./example.txt\"\n",
    "file=open(example,\"r\")\n",
    "print(\"filename=\",file.name)\n",
    "print(\"filemode=\",file.mode)\n",
    "Filecontent=file.read()\n",
    "print(\"filecontent=\\n\",Filecontent)\n",
    "file.close()\n",
    "print(file)"
   ]
  },
  {
   "cell_type": "code",
   "execution_count": 2,
   "metadata": {},
   "outputs": [
    {
     "name": "stdout",
     "output_type": "stream",
     "text": [
      "this is line 1\n",
      "this is line 2\n",
      "this is line 3\n"
     ]
    }
   ],
   "source": [
    "with open(\"./example.txt\", \"r\") as file2:\n",
    "    Filecontent=file2.read()\n",
    "    Filecontent=Filecontent.split(\"\\n\")\n",
    "    for line in Filecontent:\n",
    "        print(line)"
   ]
  },
  {
   "cell_type": "code",
   "execution_count": 9,
   "metadata": {},
   "outputs": [
    {
     "name": "stdout",
     "output_type": "stream",
     "text": [
      "this is line 1\n",
      "\n",
      "this is line 2\n",
      "\n",
      "this is line 3\n"
     ]
    }
   ],
   "source": [
    "with open(\"./example.txt\", \"r\") as file3:\n",
    "    for line in file3:\n",
    "        print(line)"
   ]
  },
  {
   "cell_type": "code",
   "execution_count": 12,
   "metadata": {},
   "outputs": [
    {
     "name": "stdout",
     "output_type": "stream",
     "text": [
      "file as list= ['this is line 1\\n', 'this is line 2\\n', 'this is line 3']\n"
     ]
    }
   ],
   "source": [
    "with open(\"./example.txt\", \"r\") as file3:\n",
    "    fileaslist=file3.readlines()\n",
    "\n",
    "print(\"file as list=\", fileaslist)"
   ]
  },
  {
   "cell_type": "code",
   "execution_count": 13,
   "metadata": {},
   "outputs": [
    {
     "name": "stdout",
     "output_type": "stream",
     "text": [
      "this is line 1\n",
      "\n",
      "this is line 2\n",
      "\n",
      "this is line 3\n"
     ]
    }
   ],
   "source": [
    "with open(\"./example.txt\",\"r\") as file1:\n",
    "    with open(\"./example2.txt\",\"w\") as file2:\n",
    "        for line in file1:\n",
    "            file2.write(line)\n",
    "with open(\"./example2.txt\",\"r\") as file3:\n",
    "    for line in file3:\n",
    "            print(line)"
   ]
  },
  {
   "cell_type": "code",
   "execution_count": 14,
   "metadata": {},
   "outputs": [
    {
     "name": "stdout",
     "output_type": "stream",
     "text": [
      "Student ID, Gender, Name, \n",
      "1, F, Emma, \n",
      "2, M, John, \n",
      "3, F, Linda, \n",
      "\n"
     ]
    }
   ],
   "source": [
    "student_list = [{\"Student ID\": 1, \"Gender\": \"F\", \"Name\": \"Emma\"},\n",
    "       {\"Student ID\": 2, \"Gender\": \"M\", \"Name\": \"John\"},\n",
    "       {\"Student ID\": 3, \"Gender\": \"F\", \"Name\": \"Linda\"}]\n",
    "\n",
    "# Write csv file\n",
    "with open('Example_csv.csv','w') as writefile:\n",
    "    # Set header for each column\n",
    "    for col_header in list(student_list[0].keys()):\n",
    "        writefile.write(str(col_header) + \", \")\n",
    "    writefile.write(\"\\n\")\n",
    "\n",
    "    # Set value for each column\n",
    "    for student in student_list:\n",
    "        for col_ele in list(student.values()):\n",
    "            writefile.write(str(col_ele) + \", \")\n",
    "        writefile.write(\"\\n\")\n",
    "\n",
    "# Print out the result csv\n",
    "with open('Example_csv.csv','r') as testwritefile:\n",
    "    print(testwritefile.read())"
   ]
  },
  {
   "cell_type": "code",
   "execution_count": null,
   "metadata": {},
   "outputs": [],
   "source": []
  }
 ],
 "metadata": {
  "kernelspec": {
   "display_name": "Python 3",
   "language": "python",
   "name": "python3"
  },
  "language_info": {
   "codemirror_mode": {
    "name": "ipython",
    "version": 3
   },
   "file_extension": ".py",
   "mimetype": "text/x-python",
   "name": "python",
   "nbconvert_exporter": "python",
   "pygments_lexer": "ipython3",
   "version": "3.6.5"
  }
 },
 "nbformat": 4,
 "nbformat_minor": 2
}
