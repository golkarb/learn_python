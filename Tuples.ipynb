{
 "cells": [
  {
   "cell_type": "code",
   "execution_count": 33,
   "metadata": {},
   "outputs": [],
   "source": [
    "# Tuples, Lists, Dictionaries and Sets"
   ]
  },
  {
   "cell_type": "code",
   "execution_count": 27,
   "metadata": {
    "scrolled": true
   },
   "outputs": [
    {
     "name": "stdout",
     "output_type": "stream",
     "text": [
      "Hello World!\n"
     ]
    }
   ],
   "source": [
    "print(\"Hello World!\")"
   ]
  },
  {
   "cell_type": "code",
   "execution_count": 3,
   "metadata": {},
   "outputs": [
    {
     "name": "stdout",
     "output_type": "stream",
     "text": [
      "before upper: micheal jackson \n",
      "after upper: MICHEAL JACKSON\n"
     ]
    }
   ],
   "source": [
    "name = \"micheal jackson\"\n",
    "print(\"before upper:\", name, \"\\nafter upper:\", name.upper())"
   ]
  },
  {
   "cell_type": "code",
   "execution_count": 4,
   "metadata": {},
   "outputs": [
    {
     "name": "stdout",
     "output_type": "stream",
     "text": [
      "example of a tuple (idenitified with round brackets): ('disc', 10, (0, 1))\n",
      "last element of the example tuple is: (0, 1)\n",
      "the first two elements of the tuple are ('disc', 10) \n",
      "\n"
     ]
    }
   ],
   "source": [
    "tuple1=(\"disc\", 10, (0, 1))\n",
    "print(\"example of a tuple (idenitified with round brackets):\", tuple1)\n",
    "print(\"last element of the example tuple is:\", tuple1[-1])\n",
    "print(\"the first two elements of the tuple are\", tuple1[0:2],\"\\n\")"
   ]
  },
  {
   "cell_type": "code",
   "execution_count": 7,
   "metadata": {},
   "outputs": [
    {
     "name": "stdout",
     "output_type": "stream",
     "text": [
      "2nd tuple example: (0, ('john', (0, 1), 'mary'), (1, 2, 3, 4), 5)\n",
      "second element this tuple is: ('john', (0, 1), 'mary')\n",
      "second element of the second element of this tuple is: (0, 1)\n",
      "all elements of the third element of the this tuple are: (1, 2, 3, 4)\n",
      "the length of this tuple is: 4\n",
      "the element containing (1,2,3,4) in the tuple is in position: 2\n"
     ]
    }
   ],
   "source": [
    "tuple2=(0, (\"john\", (0,1), \"mary\"), (1,2,3,4), 5)\n",
    "print(\"2nd tuple example:\", tuple2)\n",
    "print(\"second element this tuple is:\", tuple2[1])\n",
    "print(\"second element of the second element of this tuple is:\", tuple2[1][1])\n",
    "print(\"all elements of the third element of the this tuple are:\", tuple2[2][:])\n",
    "print(\"the length of this tuple is:\", len(tuple2))\n",
    "print(\"the element containing (1,2,3,4) in the tuple is in position:\", tuple2.index((1,2,3,4)))"
   ]
  },
  {
   "cell_type": "code",
   "execution_count": 9,
   "metadata": {},
   "outputs": [
    {
     "name": "stdout",
     "output_type": "stream",
     "text": [
      "3rd tuple example: (0, -2, 10)\n",
      "sorted tuple generates a list (with square brackets instead of round brackets): [-2, 0, 10] \n",
      "\n"
     ]
    }
   ],
   "source": [
    "tuple3=(0, -2, 10)\n",
    "print(\"3rd tuple example:\", tuple3)\n",
    "print(\"sorted tuple generates a list (with square brackets instead of round brackets):\", sorted(tuple3),\"\\n\")"
   ]
  },
  {
   "cell_type": "code",
   "execution_count": 10,
   "metadata": {},
   "outputs": [
    {
     "name": "stdout",
     "output_type": "stream",
     "text": [
      "1st list example (identified with square brackets): ['Michael', (0, 1), [4, 5]]\n",
      "extending with list ['pop' and 23]: ['Michael', (0, 1), [4, 5], 'pop', 23]\n",
      "appending with list ['pop' and 23]: ['Michael', (0, 1), [4, 5], ['pop', 23]] \n",
      "\n"
     ]
    }
   ],
   "source": [
    "list1=[\"Michael\", (0, 1), [4, 5]]\n",
    "print(\"1st list example (identified with square brackets):\", list1)\n",
    "list1.extend(['pop', 23])\n",
    "print(\"extending with list ['pop' and 23]:\", list1)\n",
    "list1=[\"Michael\", (0, 1), [4, 5]]\n",
    "list1.append(['pop', 23])\n",
    "print(\"appending with list ['pop' and 23]:\", list1,\"\\n\")"
   ]
  },
  {
   "cell_type": "code",
   "execution_count": 11,
   "metadata": {},
   "outputs": [
    {
     "name": "stdout",
     "output_type": "stream",
     "text": [
      "string example: Michael Jackson is the best\n",
      "separate string into a list: ['Michael', 'Jackson', 'is', 'the', 'best'] \n",
      "\n"
     ]
    }
   ],
   "source": [
    "string1 = \"Michael Jackson is the best\"\n",
    "print(\"string example:\", string1)\n",
    "print(\"separate string into a list:\", string1.split(), \"\\n\")"
   ]
  },
  {
   "cell_type": "code",
   "execution_count": 17,
   "metadata": {},
   "outputs": [
    {
     "name": "stdout",
     "output_type": "stream",
     "text": [
      "list2= ['manzana', ' banana', ' pepino']  derived from a string: manzana, banana, pepino\n",
      "list3 is created as a reference to the same list. list3= ['manzana', ' banana', ' pepino']\n",
      "list2 changes as the first element of list3 changes to 'naranja'\n",
      "list2= ['naranja', ' banana', ' pepino'] list3= ['naranja', ' banana', ' pepino']\n",
      "list4 is a clone of list2\n",
      "list2 does not change as the first element of list4 changes back to 'manzana''\n",
      "list2= ['naranja', ' banana', ' pepino'] list4= ['manzana', ' banana', ' pepino']\n"
     ]
    }
   ],
   "source": [
    "string2 = \"manzana, banana, pepino\"\n",
    "list2=string2.split(\",\")\n",
    "print(\"list2=\", list2,\" derived from a string:\", string2)\n",
    "list3=list2\n",
    "print(\"list3 is created as a reference to the same list. list3=\", list3)\n",
    "list3[0]='naranja'\n",
    "print(\"list2 changes as the first element of list3 changes to 'naranja'\")\n",
    "print(\"list2=\", list2, \"list3=\", list3)\n",
    "list4=list2[:]\n",
    "print(\"list4 is a clone of list2\")\n",
    "list4[0]='manzana'\n",
    "print(\"list2 does not change as the first element of list4 changes back to 'manzana''\")\n",
    "print(\"list2=\", list2, \"list4=\", list4)"
   ]
  },
  {
   "cell_type": "code",
   "execution_count": 22,
   "metadata": {},
   "outputs": [
    {
     "name": "stdout",
     "output_type": "stream",
     "text": [
      "A dictionary is identified with swiggly brackets.\n",
      "dict1= {'key1': 0, 'key2': 'John', 0: 'Mary', 'key3': 5}\n",
      "keys of dict1= dict_keys(['key1', 'key2', 0, 'key3'])\n",
      "item with key=0 has been removed.\n",
      "dict1= {'key1': 0, 'key2': 'John', 'key3': 5}\n"
     ]
    }
   ],
   "source": [
    "dict1={\"key1\": 0, \"key2\": \"John\", 0: \"Mary\", \"key3\": 5}\n",
    "print(\"A dictionary is identified with swiggly brackets.\")\n",
    "print(\"dict1=\", dict1)\n",
    "print(\"keys of dict1=\", dict1.keys())\n",
    "del(dict1[0])\n",
    "print(\"item with key=0 has been removed.\")\n",
    "print(\"dict1=\",dict1)"
   ]
  },
  {
   "cell_type": "code",
   "execution_count": 24,
   "metadata": {},
   "outputs": [
    {
     "name": "stdout",
     "output_type": "stream",
     "text": [
      "Sets are identified with swiggly brackets but no keys.\n",
      "set1= {'pop', 'R&B', 'rock', 'disco', 'soul', 'hard rock'}\n",
      "list5= [1, 2, 3, 4, 5, 5, 1, 2, 3]\n",
      "a list can be converted into a set (but with no duplicates). set(list5)= {1, 2, 3, 4, 5}\n",
      "elemets can be added/removed to/from a set: {2, 3, 4, 5, 6} \n",
      "\n"
     ]
    }
   ],
   "source": [
    "set1={\"pop\", \"rock\", \"soul\", \"hard rock\", \"rock\", \"R&B\", \"rock\", \"disco\"}\n",
    "print(\"Sets are identified with swiggly brackets but no keys.\")\n",
    "print(\"set1=\", set1)\n",
    "list5=[1, 2, 3, 4, 5, 5, 1, 2, 3]\n",
    "print(\"list5=\", list5)\n",
    "print(\"a list can be converted into a set (but with no duplicates). set(list5)=\", set(list5))\n",
    "set2=set(list5)\n",
    "set2.add(6)\n",
    "set2.remove(1)\n",
    "print(\"elemets can be added/removed to/from a set:\", set2, \"\\n\")"
   ]
  },
  {
   "cell_type": "code",
   "execution_count": 26,
   "metadata": {},
   "outputs": [
    {
     "name": "stdout",
     "output_type": "stream",
     "text": [
      "set3= {1, 2, 3, 4, 5} , set4= {3, 4, 5, 6, 7}\n",
      "set3Uset4= {1, 2, 3, 4, 5, 6, 7} set3-set4= {1, 2} set3∩set4= {3, 4, 5}\n"
     ]
    }
   ],
   "source": [
    "set3={1,2,3,4,5}\n",
    "set4={3,4,5,6,7}\n",
    "print(\"set3=\", set3, \", set4=\", set4)\n",
    "print(\"set3Uset4=\", set3.union(set4), \"set3-set4=\", set3.difference(set4), \"set3∩set4=\", set3.intersection(set4))"
   ]
  },
  {
   "cell_type": "code",
   "execution_count": null,
   "metadata": {},
   "outputs": [],
   "source": []
  }
 ],
 "metadata": {
  "kernelspec": {
   "display_name": "Python 3",
   "language": "python",
   "name": "python3"
  },
  "language_info": {
   "codemirror_mode": {
    "name": "ipython",
    "version": 3
   },
   "file_extension": ".py",
   "mimetype": "text/x-python",
   "name": "python",
   "nbconvert_exporter": "python",
   "pygments_lexer": "ipython3",
   "version": "3.6.5"
  }
 },
 "nbformat": 4,
 "nbformat_minor": 2
}
